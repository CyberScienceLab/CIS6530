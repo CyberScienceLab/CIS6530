{
 "cells": [
  {
   "cell_type": "code",
   "execution_count": null,
   "id": "unsigned-champion",
   "metadata": {},
   "outputs": [],
   "source": [
    "import os\n",
    "from os import listdir\n",
    "from os.path import isfile, join\n",
    "import numpy as np\n",
    "paths=['data/malware','data/benign'] #Data Path"
   ]
  },
  {
   "cell_type": "code",
   "execution_count": null,
   "id": "threaded-treasurer",
   "metadata": {},
   "outputs": [],
   "source": [
    "def is_hex(s): #Creturn True if input string is Hexadecimal: Based on Opcode file structure,this function is required to validate lines that include OpCode\n",
    "    try:\n",
    "        int(s, 16)\n",
    "        return True\n",
    "    except ValueError:\n",
    "        return False"
   ]
  },
  {
   "cell_type": "code",
   "execution_count": null,
   "id": "anticipated-syracuse",
   "metadata": {},
   "outputs": [],
   "source": [
    "print('Start to extract opcodes.....')  \n",
    "total_files_opcode=[] #this array includes counted information for all samples \n",
    "total_opcode_dictionary=[] #this dictionay includes a unique set of opcodes found in all samples.\n",
    "for path in paths: #Loops over Malware and Benign folders\n",
    "    files=os.listdir(path)\n",
    "    for file in files: #Loops overfiles in each folder\n",
    "        if file.endswith('.opcode'): # Read File line by line to process each eine\n",
    "            file_dic={} # The dictionary that contains files opcode and their count\n",
    "            file_handler=open(os.path.join(path,file),'r')\n",
    "            line=file_handler.readline() #Read First Line\n",
    "            while line:\n",
    "                if  len(line)>30 and line[8]==':' and is_hex(line[0:8]): #a strange line of code but there is no simple way to validate line includes OpCode!! (Better Soloution -> Regular Expresssion)\n",
    "                    rest_of_line=line[32:].split(' ') \n",
    "                    opcode=rest_of_line[0]\n",
    "                    if opcode in file_dic.keys():\n",
    "                        file_dic[opcode]=file_dic[opcode]+1 #increament the count of opcode\n",
    "                    else:\n",
    "                        file_dic[opcode]=1 #first occurance of opcode\n",
    "                    if opcode not in total_opcode_dictionary:\n",
    "                        total_opcode_dictionary.append(opcode)\n",
    "                line=file_handler.readline() #Read Newline\n",
    "            total_files_opcode.append(file_dic) #sample added to main array of samples\n",
    "\n",
    "print('Opcodes were extracted ')  \n",
    "print('The first sample of extracted information:')\n",
    "print(total_files_opcode[0]) #first line (first sample)             \n",
    "#print(total_opcode_dictionary) #Uncomment to see unique opcodes within all samples           "
   ]
  },
  {
   "cell_type": "code",
   "execution_count": null,
   "id": "celtic-fifth",
   "metadata": {},
   "outputs": [],
   "source": [
    "#Generate the final list \n",
    "final_list=np.zeros((len(total_files_opcode),len(total_opcode_dictionary)),dtype=int) # The size of array is num_of_samples(rows)*num_of_unique_opcodes(Columns)\n",
    "for i in range(len(total_files_opcode)):\n",
    "    for j in range(len(total_opcode_dictionary)):\n",
    "        opcode=total_opcode_dictionary[j]\n",
    "        if opcode in total_files_opcode[i].keys():\n",
    "            final_list[i][j]=total_files_opcode[i][opcode] #The sample includes opcode\n",
    "        else:\n",
    "            final_list[i][j]=0 #The sample does not include opcode\n",
    "print('Final list generated ')\n",
    "print(\"Size of List: \",np.shape(final_list))\n",
    "#print(final_list)"
   ]
  }
 ],
 "metadata": {
  "kernelspec": {
   "display_name": "Python 3",
   "language": "python",
   "name": "python3"
  },
  "language_info": {
   "codemirror_mode": {
    "name": "ipython",
    "version": 3
   },
   "file_extension": ".py",
   "mimetype": "text/x-python",
   "name": "python",
   "nbconvert_exporter": "python",
   "pygments_lexer": "ipython3",
   "version": "3.6.9"
  }
 },
 "nbformat": 4,
 "nbformat_minor": 5
}
