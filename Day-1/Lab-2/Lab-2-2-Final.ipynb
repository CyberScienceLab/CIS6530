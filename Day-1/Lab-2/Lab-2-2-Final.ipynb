{
 "cells": [
  {
   "cell_type": "code",
   "execution_count": null,
   "metadata": {
    "tags": []
   },
   "outputs": [],
   "source": [
    "import pandas as pd\n",
    "import numpy as np\n",
    "from sklearn import *\n",
    "from sklearn.metrics import accuracy_score"
   ]
  },
  {
   "cell_type": "code",
   "execution_count": null,
   "metadata": {
    "tags": []
   },
   "outputs": [],
   "source": [
    "malware_dataset = pd.read_csv('data/malware_data_2.csv', delimiter=',')\n",
    "# Extacting artifacts samples fields \"AddressOfEntryPoint\" and \"DllCharacteristics\"\n",
    "samples = malware_dataset.iloc[:, [0,1,2,3,4,5,6,7]].values\n",
    "targets = malware_dataset.iloc[:, 8].values\n",
    "from sklearn.model_selection import train_test_split\n",
    "\n",
    "training_samples, testing_samples, training_targets, testing_targets = train_test_split(samples, targets, test_size=0.2, random_state=0)\n",
    "print('training_samples, testing_samples, training_targets, testing_targets are ready to use for training ML models')\n",
    "print('size of data traing samples:',np.shape(training_samples),' testing samples',np.shape(testing_samples))"
   ]
  },
  {
   "cell_type": "code",
   "execution_count": null,
   "metadata": {
    "tags": []
   },
   "outputs": [],
   "source": [
    "# Put your codes here to train KNN(k=1,k=3,k=10), decision tree, Linear and RBF SVM , random forest and Multi-Layer Perceptron\n",
    "from sklearn import tree\n",
    "from sklearn.neighbors import KNeighborsClassifier\n",
    "from sklearn.neural_network import MLPClassifier\n",
    "from sklearn.svm import SVC\n",
    "from sklearn.ensemble import RandomForestClassifier\n",
    "from sklearn.tree import DecisionTreeClassifier\n",
    "\n",
    "Classifiers={\"Nearest Neighbors (k=1)\": KNeighborsClassifier(1),\n",
    "             \"Nearest Neighbors (k=3)\": KNeighborsClassifier(3),\n",
    "             \"Nearest Neighbors (k=10)\": KNeighborsClassifier(10),\n",
    "             \"Decision Tree\": DecisionTreeClassifier(),\n",
    "             \"Random Forest\": RandomForestClassifier(max_depth=5, n_estimators=10),\n",
    "             \"Neural Network or Multi-layer Perceptron\": MLPClassifier(alpha=1, max_iter=500)\n",
    "             #,\"Linear SVM\":SVC(kernel=\"linear\"), #Run this model on a more powerful system\n",
    "             #\"RBF SVM\":SVC(gamma=2, C=1) #Run this model on a more powerful system\n",
    "            }\n",
    "    \n",
    "for clf_name in Classifiers.keys():\n",
    "    clf=Classifiers[clf_name]\n",
    "    clf.fit(training_samples, training_targets)\n",
    "    predictions = clf.predict(testing_samples)\n",
    "    accuracy = 100.0 * accuracy_score(testing_targets, predictions)\n",
    "    print (clf_name + \" accuracy: \" + str(accuracy))\n"
   ]
  }
 ],
 "metadata": {
  "kernelspec": {
   "display_name": "Python 3",
   "language": "python",
   "name": "python3"
  },
  "language_info": {
   "codemirror_mode": {
    "name": "ipython",
    "version": 3
   },
   "file_extension": ".py",
   "mimetype": "text/x-python",
   "name": "python",
   "nbconvert_exporter": "python",
   "pygments_lexer": "ipython3",
   "version": "3.6.9"
  }
 },
 "nbformat": 4,
 "nbformat_minor": 4
}
