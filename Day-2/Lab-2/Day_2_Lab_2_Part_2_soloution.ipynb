{
  "nbformat": 4,
  "nbformat_minor": 0,
  "metadata": {
    "colab": {
      "name": "Day-2-Lab-2-Part-2-soloution",
      "provenance": [],
      "collapsed_sections": []
    },
    "kernelspec": {
      "name": "python3",
      "display_name": "Python 3"
    },
    "accelerator": "GPU"
  },
  "cells": [
    {
      "cell_type": "markdown",
      "metadata": {
        "id": "RHwgLwN4nXPi"
      },
      "source": [
        "# **2nd Day - Lab-2**\n",
        "---\n",
        "**Lab Objective:**\n",
        "> In this lab, we will figure out import Cleverhans to run adversarial attacks against CNN network. In addition, some adversarial attacks will be implemented. Finally, we will evaluate the transferability of  adversarial examples from model A to model B.\n",
        "---\n",
        "# **PART-2:**\n",
        "\n",
        "In this part we will load MNIST dataset and train  TWO CNN models with it. Then, we will run FGSM attack again the 1st model. Then, we feed the generated example into the second model and show the result.\n",
        "\n",
        "---"
      ]
    },
    {
      "cell_type": "markdown",
      "metadata": {
        "id": "Vs9wD38he0cM"
      },
      "source": [
        "# Part1-Step1 : **Import required libaries and MNIST dataset**"
      ]
    },
    {
      "cell_type": "code",
      "metadata": {
        "id": "eBsLelavnv0u"
      },
      "source": [
        "!pip install -q tensorflow==2.0.0b1\n",
        "# Install bleeding edge version of cleverhans\n",
        "!pip install git+https://github.com/tensorflow/cleverhans.git#egg=cleverhans\n",
        "import cleverhans\n",
        "import tensorflow as tf\n",
        "import numpy as np\n",
        "import matplotlib.pyplot as plt\n",
        "mnist = tf.keras.datasets.mnist\n",
        "(train_images, train_labels), (test_images, test_labels) = mnist.load_data()\n",
        "train_images = train_images / 255.0\n",
        "test_images = test_images / 255.0"
      ],
      "execution_count": null,
      "outputs": []
    },
    {
      "cell_type": "markdown",
      "metadata": {
        "id": "b4kgPQqp-hwR"
      },
      "source": [
        "# Part1-Step2 : \n",
        "\n",
        "In this step, two different CNN networks are created and trained with MNIST dataset. "
      ]
    },
    {
      "cell_type": "code",
      "metadata": {
        "id": "uQVP1re__pbf"
      },
      "source": [
        "num_classes = 10\n",
        "model_1 = tf.keras.Sequential([\n",
        "    tf.keras.layers.Flatten(input_shape=(28, 28)),\n",
        "    tf.keras.layers.Dense(32, activation=tf.nn.relu),\n",
        "    tf.keras.layers.Dense(16, activation=tf.nn.relu),\n",
        "    tf.keras.layers.Dense(10),\n",
        "    tf.keras.layers.Activation(tf.nn.softmax) # We seperate the activation layer to be able to access the logits of the previous layer later\n",
        "])\n",
        "model_1.compile(optimizer='adam',loss= 'sparse_categorical_crossentropy',  metrics=['accuracy'])\n",
        "model_1.fit(train_images, train_labels, epochs=10, validation_split=0.2)\n",
        "model_2 = tf.keras.Sequential([\n",
        "    tf.keras.layers.Flatten(input_shape=(28, 28)),\n",
        "    tf.keras.layers.Dense(64, activation=tf.nn.relu),\n",
        "    tf.keras.layers.Dense(32, activation=tf.nn.relu),\n",
        "    tf.keras.layers.Dense(24, activation=tf.nn.relu),\n",
        "    tf.keras.layers.Dense(10),\n",
        "    tf.keras.layers.Activation(tf.nn.softmax) # We seperate the activation layer to be able to access the logits of the previous layer later\n",
        "])\n",
        "model_2.compile(optimizer='adam',loss= 'sparse_categorical_crossentropy',  metrics=['accuracy'])\n",
        "model_2.fit(train_images, train_labels, epochs=10, validation_split=0.2)"
      ],
      "execution_count": null,
      "outputs": []
    },
    {
      "cell_type": "markdown",
      "metadata": {
        "id": "QpC4KgTS_Fj8"
      },
      "source": [
        "# Part1-Step3 : \n",
        "---\n",
        "In this step, we select a random image and using \"fast_gradient_method\", we run attack against model_1. Then, we feed the generated attack into the model_2 (transfer the attack) and show the result as well."
      ]
    },
    {
      "cell_type": "code",
      "metadata": {
        "id": "LgZhvgzbAuU8"
      },
      "source": [
        "# Import the attack\n",
        "from cleverhans.tf2.attacks.fast_gradient_method import fast_gradient_method\n",
        "random_index = 7204 #a random index to select sample and make it as adversarial example\n",
        "original_image = test_images[random_index]\n",
        "original_image = tf.convert_to_tensor(original_image.reshape((1,28,28))) #The .reshape just gives it the proper form to input into the model, a batch of 1 a.k.a a tensor\n",
        "original_label=(test_labels[random_index])\n",
        "\n",
        "\n",
        "logits_model = tf.keras.Model(model_1.input,model_1.layers[-1].output) #The attack requires the model to ouput the logits . Logit is last layer of CNN model \n",
        "epsilon = 0.1 #a parameter to control the size of modification (purturbation) on original image to convert it to adversarial example.\n",
        "adv_example= fast_gradient_method(logits_model, original_image, epsilon, np.inf, targeted=False)#Here the adversarial example is generated\n",
        "adv_example_label_model_1 = model_1.predict(adv_example) \n",
        "adv_example_label_model_2 = model_2.predict(adv_example) \n",
        "print('>> Adversarial Example is Created for images ', random_index)\n",
        "\n",
        "# Here, we visulize original and adversarial example\n",
        "plt.figure()\n",
        "plt.imshow(np.reshape(original_image, (28,28)))\n",
        "plt.title(\"Original Image Label: {}\".format(original_label))\n",
        "plt.show()\n",
        "plt.imshow(np.reshape(adv_example, (28,28)))\n",
        "plt.title(\"Adversarial Image, Model_1 Prediction: {}\".format(np.argmax(adv_example_label_model_1)))\n",
        "plt.show()\n",
        "plt.imshow(np.reshape(adv_example, (28,28)))\n",
        "plt.title(\"Adversarial Image, Model_2 Prediction: {}\".format(np.argmax(adv_example_label_model_2)))\n",
        "plt.show()\n"
      ],
      "execution_count": null,
      "outputs": []
    }
  ]
}