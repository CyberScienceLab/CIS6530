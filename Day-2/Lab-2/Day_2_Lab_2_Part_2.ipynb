{
  "nbformat": 4,
  "nbformat_minor": 0,
  "metadata": {
    "colab": {
      "name": "Day-2-Lab-2-Part-2",
      "provenance": [],
      "collapsed_sections": []
    },
    "kernelspec": {
      "name": "python3",
      "display_name": "Python 3"
    },
    "accelerator": "GPU"
  },
  "cells": [
    {
      "cell_type": "markdown",
      "metadata": {
        "id": "RHwgLwN4nXPi"
      },
      "source": [
        "# **2nd Day - Lab-2**\n",
        "---\n",
        "**Lab Objective:**\n",
        "> In this lab, we will figure out import Cleverhans to run adversarial attacks against CNN network. In addition, some adversarial attacks will be implemented. Finally, we will evaluate the transferability of  adversarial examples from model A to model B.\n",
        "---\n",
        "# **PART-2:**\n",
        "\n",
        "In this part we will load MNIST dataset and train  TWO CNN models with it. Then, we will run FGSM attack again the 1st model. Then, we feed the generated example into the second model and show the result.\n",
        "\n",
        "---"
      ]
    },
    {
      "cell_type": "markdown",
      "metadata": {
        "id": "Vs9wD38he0cM"
      },
      "source": [
        "# Part1-Step1 : **Import required libaries and MNIST dataset**"
      ]
    },
    {
      "cell_type": "code",
      "metadata": {
        "id": "eBsLelavnv0u"
      },
      "source": [
        "!pip install -q tensorflow==2.0.0b1\n",
        "# Install bleeding edge version of cleverhans\n",
        "!pip install git+https://github.com/tensorflow/cleverhans.git#egg=cleverhans\n",
        "import cleverhans\n",
        "import tensorflow as tf\n",
        "import numpy as np\n",
        "import matplotlib.pyplot as plt\n",
        "mnist = tf.keras.datasets.mnist\n",
        "(train_images, train_labels), (test_images, test_labels) = mnist.load_data()\n",
        "train_images = train_images / 255.0\n",
        "test_images = test_images / 255.0"
      ],
      "execution_count": null,
      "outputs": []
    },
    {
      "cell_type": "markdown",
      "metadata": {
        "id": "b4kgPQqp-hwR"
      },
      "source": [
        "# Part1-Step2 : \n",
        "\n",
        "In this step, two different CNN networks are created and trained with MNIST dataset. "
      ]
    },
    {
      "cell_type": "code",
      "metadata": {
        "id": "uQVP1re__pbf"
      },
      "source": [
        "num_classes = 10\n",
        "model_1 = tf.keras.Sequential([\n",
        "    tf.keras.layers.Flatten(input_shape=(28, 28)),\n",
        "    tf.keras.layers.Dense(32, activation=tf.nn.relu),\n",
        "    tf.keras.layers.Dense(16, activation=tf.nn.relu),\n",
        "    tf.keras.layers.Dense(10),\n",
        "    tf.keras.layers.Activation(tf.nn.softmax) # We seperate the activation layer to be able to access the logits of the previous layer later\n",
        "])\n",
        "model_1.compile(optimizer='adam',loss= 'sparse_categorical_crossentropy',  metrics=['accuracy'])\n",
        "model_1.fit(train_images, train_labels, epochs=10, validation_split=0.2)\n",
        "model_2 = tf.keras.Sequential([\n",
        "    tf.keras.layers.Flatten(input_shape=(28, 28)),\n",
        "    tf.keras.layers.Dense(64, activation=tf.nn.relu),\n",
        "    tf.keras.layers.Dense(32, activation=tf.nn.relu),\n",
        "    tf.keras.layers.Dense(24, activation=tf.nn.relu),\n",
        "    tf.keras.layers.Dense(10),\n",
        "    tf.keras.layers.Activation(tf.nn.softmax) # We seperate the activation layer to be able to access the logits of the previous layer later\n",
        "])\n",
        "model_2.compile(optimizer='adam',loss= 'sparse_categorical_crossentropy',  metrics=['accuracy'])\n",
        "model_2.fit(train_images, train_labels, epochs=10, validation_split=0.2)"
      ],
      "execution_count": null,
      "outputs": []
    },
    {
      "cell_type": "markdown",
      "metadata": {
        "id": "QpC4KgTS_Fj8"
      },
      "source": [
        "# Part1-Step3 :?? \n",
        "---\n",
        "Write some code that generate adversarial example on model_1 and then transfer the generated model to model_2 and show the result. (what is the prediction of model_1 for the adversarial example and what is the prediction of model_2)"
      ]
    },
    {
      "cell_type": "code",
      "metadata": {
        "id": "LgZhvgzbAuU8"
      },
      "source": [
        "#write yor code here"
      ],
      "execution_count": null,
      "outputs": []
    }
  ]
}