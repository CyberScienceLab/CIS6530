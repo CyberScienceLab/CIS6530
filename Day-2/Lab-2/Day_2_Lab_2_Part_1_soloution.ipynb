{
  "nbformat": 4,
  "nbformat_minor": 0,
  "metadata": {
    "colab": {
      "name": "Day-2-Lab-2-Part-1-soloution",
      "provenance": [],
      "collapsed_sections": []
    },
    "kernelspec": {
      "name": "python3",
      "display_name": "Python 3"
    },
    "accelerator": "GPU"
  },
  "cells": [
    {
      "cell_type": "markdown",
      "metadata": {
        "id": "RHwgLwN4nXPi"
      },
      "source": [
        "# **2nd Day - Lab-2**\n",
        "---\n",
        "**Lab Objective:**\n",
        "> In this lab, we will figure out import Cleverhans to run adversarial attacks against CNN network. In addition, some adversarial attacks will be implemented. Finally, we will evaluate the transferability of  adversarial examples from model A to model B.\n",
        "---\n",
        "# **PART-1:**\n",
        "\n",
        "In this part we will load MNIST dataset and train a CNN model with it. Then, we will run FGSM attack again the trained model. Similarly, we will implement PGD attack against the model.\n",
        "\n",
        "---"
      ]
    },
    {
      "cell_type": "markdown",
      "metadata": {
        "id": "Vs9wD38he0cM"
      },
      "source": [
        "# Part1-Step1 : **Import required libaries and MNIST dataset**"
      ]
    },
    {
      "cell_type": "code",
      "metadata": {
        "id": "eBsLelavnv0u"
      },
      "source": [
        "!pip install -q tensorflow==2.0.0b1\n",
        "# Install bleeding edge version of cleverhans\n",
        "!pip install git+https://github.com/tensorflow/cleverhans.git#egg=cleverhans\n",
        "import cleverhans\n",
        "import tensorflow as tf\n",
        "import numpy as np\n",
        "import matplotlib.pyplot as plt\n",
        "mnist = tf.keras.datasets.mnist\n",
        "(train_images, train_labels), (test_images, test_labels) = mnist.load_data()\n",
        "train_images = train_images / 255.0\n",
        "test_images = test_images / 255.0"
      ],
      "execution_count": null,
      "outputs": []
    },
    {
      "cell_type": "markdown",
      "metadata": {
        "id": "b4kgPQqp-hwR"
      },
      "source": [
        "# Part1-Step2 : \n",
        "\n",
        "In this step, a simple CNN network is created and trained with MNIST dataset."
      ]
    },
    {
      "cell_type": "code",
      "metadata": {
        "id": "uQVP1re__pbf"
      },
      "source": [
        "num_classes = 10\n",
        "model = tf.keras.Sequential([\n",
        "    tf.keras.layers.Flatten(input_shape=(28, 28)),\n",
        "    tf.keras.layers.Dense(32, activation=tf.nn.relu),\n",
        "    tf.keras.layers.Dense(16, activation=tf.nn.relu),\n",
        "    tf.keras.layers.Dense(10),\n",
        "    tf.keras.layers.Activation(tf.nn.softmax) # We seperate the activation layer to be able to access the logits of the previous layer later\n",
        "])\n",
        "model.compile(optimizer='adam',loss= 'sparse_categorical_crossentropy',  metrics=['accuracy'])\n",
        "model.fit(train_images, train_labels, epochs=10, validation_split=0.2)"
      ],
      "execution_count": null,
      "outputs": []
    },
    {
      "cell_type": "markdown",
      "metadata": {
        "id": "QpC4KgTS_Fj8"
      },
      "source": [
        "# Part1-Step3 : \n",
        "---\n",
        "In this step, we select a random image and using \"fast_gradient_method\", we convert in to an adversarial example. Then, we show original and adversarial example as well as the output of model for adversarial example (which is expected to be incorrect)."
      ]
    },
    {
      "cell_type": "code",
      "metadata": {
        "id": "LgZhvgzbAuU8"
      },
      "source": [
        "# Import the attack\n",
        "from cleverhans.tf2.attacks.fast_gradient_method import fast_gradient_method\n",
        "random_index = 7204 #a random index to select sample and make it as adversarial example\n",
        "original_image = test_images[random_index]\n",
        "original_image = tf.convert_to_tensor(original_image.reshape((1,28,28))) #The .reshape just gives it the proper form to input into the model, a batch of 1 a.k.a a tensor\n",
        "original_label=(test_labels[random_index])\n",
        "\n",
        "\n",
        "logits_model = tf.keras.Model(model.input,model.layers[-1].output) #The attack requires the model to ouput the logits . Logit is last layer of CNN model \n",
        "epsilon = 0.1 #a parameter to control the size of modification (purturbation) on original image to convert it to adversarial example.\n",
        "adv_example= fast_gradient_method(logits_model, original_image, epsilon, np.inf, targeted=False)\n",
        "adv_example_label = model.predict(adv_example) #Here the adversarial example is generated\n",
        "print('>> Adversarial Example is Created for images ', random_index)\n",
        "\n",
        "# Here, we visulize original and adversarial example\n",
        "plt.figure()\n",
        "plt.imshow(np.reshape(original_image, (28,28)))\n",
        "plt.title(\"Original Image Label: {}\".format(original_label))\n",
        "plt.show()\n",
        "plt.imshow(np.reshape(adv_example, (28,28)))\n",
        "plt.title(\"Adversarial Image, Model Prediction: {}\".format(np.argmax(adv_example_label)))\n",
        "plt.show()"
      ],
      "execution_count": null,
      "outputs": []
    },
    {
      "cell_type": "markdown",
      "metadata": {
        "id": "rz8QBZJ2-DO5"
      },
      "source": [
        "# Part1-Step4: \n",
        "\n",
        "---\n",
        "\n",
        "In this part, similat to FGSM, run PGD (projected_gradient_descent()) attack against the CNN model.\n",
        "\n",
        "\n",
        "Tip1: similar to \"fast_gradient_method\",  import and run \"projected_gradient_descent\" from Cleverhans\n",
        "\n",
        "Tip2: set following parameter values for PGD attack\n",
        "\n",
        "\n",
        "> eps=0.1, norm=np.inf,nb_iter=1000,eps_iter=.01\n",
        "\n",
        "\n",
        "\n",
        "\n"
      ]
    },
    {
      "cell_type": "code",
      "metadata": {
        "id": "6LSemuYWrZWz",
        "colab": {
          "base_uri": "https://localhost:8080/",
          "height": 616
        },
        "outputId": "30a690a9-e01e-4cda-cb9a-02ee132041db"
      },
      "source": [
        "#Write your code here\n",
        "from cleverhans.tf2.attacks.projected_gradient_descent import projected_gradient_descent\n",
        "random_index = 5469 #a random index to select sample and make it as adversarial example\n",
        "original_image = test_images[random_index]\n",
        "original_image = tf.convert_to_tensor(original_image.reshape((1,28,28))) #The .reshape just gives it the proper form to input into the model, a batch of 1 a.k.a a tensor\n",
        "original_label=(test_labels[random_index])\n",
        "\n",
        "\n",
        "logits_model = tf.keras.Model(model.input,model.layers[-1].output) #The attack requires the model to ouput the logits . Logit is last layer of CNN model \n",
        "\n",
        "epsilon = 0.1\n",
        "adv_example= projected_gradient_descent(logits_model, original_image, eps=epsilon, norm=np.inf,nb_iter=1000,eps_iter=.01)\n",
        "adv_example_label = model.predict(adv_example) #Here the adversarial example is generated\n",
        "print('>> Adversarial Example is Created for images ', random_index)\n",
        "plt.figure()\n",
        "plt.imshow(np.reshape(original_image, (28,28)))\n",
        "plt.title(\"Original Image Label: {}\".format(original_label))\n",
        "plt.show()\n",
        "plt.imshow(np.reshape(adv_example, (28,28)))\n",
        "plt.title(\"Adversarial Image, Model Prediction: {}\".format(np.argmax(adv_example_label)))\n",
        "plt.show()"
      ],
      "execution_count": 65,
      "outputs": [
        {
          "output_type": "stream",
          "text": [
            "WARNING:tensorflow:Entity <function compute_gradient at 0x7fa142f5e440> could not be transformed and will be executed as-is. Please report this to the AutoGraph team. When filing the bug, set the verbosity to 10 (on Linux, `export AUTOGRAPH_VERBOSITY=10`) and attach the full output. Cause: converting <function compute_gradient at 0x7fa142f5e440>: AssertionError: Bad argument number for Name: 3, expecting 4\n",
            "WARNING: Entity <function compute_gradient at 0x7fa142f5e440> could not be transformed and will be executed as-is. Please report this to the AutoGraph team. When filing the bug, set the verbosity to 10 (on Linux, `export AUTOGRAPH_VERBOSITY=10`) and attach the full output. Cause: converting <function compute_gradient at 0x7fa142f5e440>: AssertionError: Bad argument number for Name: 3, expecting 4\n",
            ">> Adversarial Example is Created for images  5469\n"
          ],
          "name": "stdout"
        },
        {
          "output_type": "display_data",
          "data": {
            "image/png": "[encoded data removed]",
            "text/plain": [
              "<Figure size 432x288 with 1 Axes>"
            ]
          },
          "metadata": {
            "tags": [],
            "needs_background": "light"
          }
        },
        {
          "output_type": "display_data",
          "data": {
            "image/png": "[encoded data removed]",
            "text/plain": [
              "<Figure size 432x288 with 1 Axes>"
            ]
          },
          "metadata": {
            "tags": [],
            "needs_background": "light"
          }
        }
      ]
    }
  ]
}