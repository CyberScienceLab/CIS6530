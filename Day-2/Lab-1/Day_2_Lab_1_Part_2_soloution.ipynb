{
  "nbformat": 4,
  "nbformat_minor": 0,
  "metadata": {
    "colab": {
      "name": "Day-2-Lab-1-Part-2-soloution.ipynb",
      "provenance": [],
      "collapsed_sections": []
    },
    "kernelspec": {
      "name": "python3",
      "display_name": "Python 3"
    }
  },
  "cells": [
    {
      "cell_type": "markdown",
      "metadata": {
        "id": "gQiZqUPebIu0"
      },
      "source": [
        "# **2nd Day - Lab-1**\r\n",
        "---\r\n",
        "**Lab Objective:**\r\n",
        "> In this lab and in the first part, we will first learn how to build a simple deep learning system to classify MNIST datast which includes digit's images. In the second part we will convert extracted information from malware into image format and then use a deep learning system to classify malware and beign executables.\r\n",
        "---\r\n",
        "### *Note:In ths lab you can simply uncomment some lines and re-run the cell to see more details.*\r\n",
        "---\r\n",
        "# **PART-2:**\r\n",
        "In this part we load a dataset of malware extracted information and then convert them into images. Then, we will use a deep neural network to classify them.\r\n",
        "\r\n",
        "\r\n",
        "---\r\n",
        "# Part2-Step1 : **Loading Data**"
      ]
    },
    {
      "cell_type": "code",
      "metadata": {
        "id": "7_4aLNEXb9hx"
      },
      "source": [
        "#In this section we load **MNIST** dataset\r\n",
        "import numpy as np\r\n",
        "!rm malware-dataset.csv #remove previously download dataset if available\r\n",
        "!wget 'https://github.com/CyberScienceLab/CIS6530/raw/main/Day-2/Lab-1/malware-dataset.csv'\r\n",
        "\r\n",
        "x_train=[]\r\n",
        "y_train=[]\r\n",
        "i=1\r\n",
        "f=open('malware-dataset.csv')\r\n",
        "line=f.readline()\r\n",
        "##Show some parts of first sample in the CSV file\r\n",
        "print('>> First sample in the CSV file:\\n',line[:100], '..........')\r\n",
        "while line: #read the file line-by-line (sample-by-sample) and process it and conver it to an image\r\n",
        "  line=line.replace('\\n','')\r\n",
        "  cols=line.split(',')\r\n",
        "  y_train.append(cols[1]) #Label of sample\r\n",
        "  sample=np.zeros((256,256))\r\n",
        "  byte_codes= cols[2].split(' ')\r\n",
        "  for i in range(len(byte_codes)-1):\r\n",
        "    idx_row=int(byte_codes[i],16) #convert HEX to Integer\r\n",
        "    idx_col=int(byte_codes[i+1],16)\r\n",
        "    sample[idx_row,idx_col]+=1\r\n",
        "  sample=sample.astype(\"float32\")  #normalize sample \r\n",
        "  x_train.append(sample)\r\n",
        "  line=f.readline() \r\n",
        "x_train=np.array(x_train)\r\n",
        "y_train=np.array(y_train)\r\n",
        "x_train = np.expand_dims(x_train, -1)\r\n",
        "y_train = keras.utils.to_categorical(y_train, num_classes)\r\n",
        "print('>> Creating Malware Image Dataset finished. Dataset Shape is : ', np.shape(x_train))"
      ],
      "execution_count": null,
      "outputs": []
    },
    {
      "cell_type": "markdown",
      "metadata": {
        "id": "Lol7WOtwS5jO"
      },
      "source": [
        "# Part1-Step2: Visulizing Executables "
      ]
    },
    {
      "cell_type": "code",
      "metadata": {
        "id": "NKA2eXZqTHrf"
      },
      "source": [
        "import matplotlib.pyplot as plt\r\n",
        "print('Some samples of datasets : ')\r\n",
        "for i in [30,66,220]: #randomly selected index of samples -you can change the list numbers to see other samples \r\n",
        "  img = x_train[i]\r\n",
        "  img=np.squeeze(img)\r\n",
        "  plt.figure(figsize = (5,5)) #set width and height of figures\r\n",
        "  plt.imshow(img, cmap=\"gray\")\r\n",
        "  plt.show()"
      ],
      "execution_count": null,
      "outputs": []
    },
    {
      "cell_type": "markdown",
      "metadata": {
        "id": "BsQOzBQjVNTK"
      },
      "source": [
        "# Part1-Step2: Creating Deep Neural Network "
      ]
    },
    {
      "cell_type": "code",
      "metadata": {
        "id": "SFwG8mqnVWTy"
      },
      "source": [
        "import keras \r\n",
        "from tensorflow import keras\r\n",
        "from tensorflow.keras import layers\r\n",
        "num_classes = 2 # Because the number of classes in Malware  dataset is 2\r\n",
        "input_shape = (256, 256,1) # Because the size of images in malware dataset is 256*256  and images have one layer \r\n",
        "model = keras.Sequential(\r\n",
        "    [\r\n",
        "        keras.Input(shape=input_shape),\r\n",
        "        layers.Conv2D(32, kernel_size=(3, 3), activation=\"relu\"),\r\n",
        "        layers.MaxPooling2D(pool_size=(2, 2)),\r\n",
        "        layers.Conv2D(64, kernel_size=(3, 3), activation=\"relu\"),\r\n",
        "        layers.MaxPooling2D(pool_size=(2, 2)),\r\n",
        "        layers.Flatten(),\r\n",
        "        layers.Dropout(0.5),\r\n",
        "        layers.Dense(num_classes, activation=\"softmax\"),\r\n",
        "    ]\r\n",
        ")\r\n",
        "model.summary()\r\n",
        "print('>> Creating Malware Image Dataset finished. Dataset Shape is : ', np.shape(x_train))"
      ],
      "execution_count": null,
      "outputs": []
    },
    {
      "cell_type": "markdown",
      "metadata": {
        "id": "O2oCUoCGWxa9"
      },
      "source": [
        "# Paert1-Step3: Compile the Model and Train it"
      ]
    },
    {
      "cell_type": "code",
      "metadata": {
        "id": "8T883j6iW5OO"
      },
      "source": [
        "batch_size = 128\r\n",
        "epochs = 10\r\n",
        "model.compile(loss=\"categorical_crossentropy\", optimizer=\"adam\", metrics=[\"accuracy\"])\r\n",
        "model.fit(x_train, y_train, batch_size=batch_size, epochs=epochs, validation_split=.2)"
      ],
      "execution_count": null,
      "outputs": []
    }
  ]
}