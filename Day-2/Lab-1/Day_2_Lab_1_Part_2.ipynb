{
  "nbformat": 4,
  "nbformat_minor": 0,
  "metadata": {
    "colab": {
      "name": "Day-2-Lab-1-Part-2.ipynb",
      "provenance": [],
      "collapsed_sections": []
    },
    "kernelspec": {
      "name": "python3",
      "display_name": "Python 3"
    }
  },
  "cells": [
    {
      "cell_type": "markdown",
      "metadata": {
        "id": "gQiZqUPebIu0"
      },
      "source": [
        "# **2nd Day - Lab-1**\r\n",
        "---\r\n",
        "**Lab Objective:**\r\n",
        "> In this lab and in the first part, we will first learn how to build a simple deep learning system to classify MNIST datast which includes digit's images. In the second part we will convert extracted information from malware into image format and then use a deep learning system to classify malware and beign executables.\r\n",
        "---\r\n",
        "### *Note:In ths lab you can simply uncomment some lines and re-run the cell to see more details.*\r\n",
        "---\r\n",
        "# **PART-2:**\r\n",
        "In this part we load a dataset of malware extracted information and then convert them into images. Then, we will use a deep neural network to classify them.\r\n",
        "\r\n",
        "\r\n",
        "---\r\n",
        "# Part2-Step1 : **Loading Data**"
      ]
    },
    {
      "cell_type": "code",
      "metadata": {
        "id": "7_4aLNEXb9hx"
      },
      "source": [
        "#In this section we load **MNIST** dataset\r\n",
        "import numpy as np\r\n",
        "!rm malware-dataset.csv #remove previously download dataset if available\r\n",
        "!wget 'https://github.com/CyberScienceLab/CIS6530/raw/main/Day-2/Lab-1/malware-dataset.csv'\r\n",
        "\r\n",
        "x_train=[]\r\n",
        "y_train=[]\r\n",
        "i=1\r\n",
        "f=open('malware-dataset.csv')\r\n",
        "line=f.readline()\r\n",
        "##Show some parts of first sample in the CSV file\r\n",
        "print('>> First sample in the CSV file:\\n',line[:100], '..........')\r\n",
        "while line: #read the file line-by-line (sample-by-sample) and process it and conver it to an image\r\n",
        "  line=line.replace('\\n','')\r\n",
        "  cols=line.split(',')\r\n",
        "  y_train.append(cols[1]) #Label of sample\r\n",
        "  sample=np.zeros((256,256))\r\n",
        "  byte_codes= cols[2].split(' ')\r\n",
        "  for i in range(len(byte_codes)-1):\r\n",
        "    idx_row=int(byte_codes[i],16) #convert HEX to Integer\r\n",
        "    idx_col=int(byte_codes[i+1],16)\r\n",
        "    sample[idx_row,idx_col]+=1\r\n",
        "  sample=sample.astype(\"float32\")  #normalize sample \r\n",
        "  x_train.append(sample)\r\n",
        "  line=f.readline() \r\n",
        "x_train=np.array(x_train)\r\n",
        "y_train=np.array(y_train)\r\n",
        "x_train = np.expand_dims(x_train, -1)\r\n",
        "y_train = keras.utils.to_categorical(y_train, num_classes)\r\n",
        "print('>> Creating Malware Image Dataset finished. Dataset Shape is : ', np.shape(x_train))"
      ],
      "execution_count": null,
      "outputs": []
    },
    {
      "cell_type": "markdown",
      "metadata": {
        "id": "Lol7WOtwS5jO"
      },
      "source": [
        "# Part1-Step2: Visulizing Executables \r\n",
        "\r\n",
        "Write some codes similar to Part-1 to visualize some samples.\r\n",
        "\r\n",
        "Tip1: if you get error for size of image, np.squeeze is a useful function in Numpy package to solve the soloution.\r\n",
        "\r\n",
        "Tip2: Majority of samples seems as a black plot which includes few white spots."
      ]
    },
    {
      "cell_type": "code",
      "metadata": {
        "id": "NKA2eXZqTHrf"
      },
      "source": [
        "# Write Your Code here"
      ],
      "execution_count": null,
      "outputs": []
    },
    {
      "cell_type": "markdown",
      "metadata": {
        "id": "BsQOzBQjVNTK"
      },
      "source": [
        "# Part1-Step3: Creating Deep Neural Network \r\n",
        "\r\n",
        "Write your code similar to Part-1 to create a simple  CNN network.\r\n",
        "\r\n",
        "Tip1: The main point to consider size is size of input and number of classes"
      ]
    },
    {
      "cell_type": "code",
      "metadata": {
        "id": "SFwG8mqnVWTy"
      },
      "source": [
        "#Write Your Code Here"
      ],
      "execution_count": null,
      "outputs": []
    },
    {
      "cell_type": "markdown",
      "metadata": {
        "id": "O2oCUoCGWxa9"
      },
      "source": [
        "# Paert1-Step4: Compile the Model and Train it\r\n",
        "\r\n",
        "Use 80% of data for training and 20% for validation.\r\n",
        "\r\n",
        "Tip1: validation_split [link](https://keras.rstudio.com/reference/fit.html) is a parameter of model.fit that helps you split dataset into two parts."
      ]
    },
    {
      "cell_type": "code",
      "metadata": {
        "id": "8T883j6iW5OO"
      },
      "source": [
        "#Write Your Code Here"
      ],
      "execution_count": null,
      "outputs": []
    }
  ]
}