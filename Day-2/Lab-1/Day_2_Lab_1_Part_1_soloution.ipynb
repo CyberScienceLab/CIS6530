{
  "nbformat": 4,
  "nbformat_minor": 0,
  "metadata": {
    "colab": {
      "name": "Day-2-Lab-1-Part-1-Soloution.ipynb",
      "provenance": []
    },
    "kernelspec": {
      "name": "python3",
      "display_name": "Python 3"
    }
  },
  "cells": [
    {
      "cell_type": "markdown",
      "metadata": {
        "id": "gQiZqUPebIu0"
      },
      "source": [
        "# **MNIST Fashion Dataset**\r\n",
        "\r\n",
        "# Part1-Step1 : **Loading Data**"
      ]
    },
    {
      "cell_type": "code",
      "metadata": {
        "id": "7_4aLNEXb9hx"
      },
      "source": [
        "#In this section we load **Fashion MNIST** dataset\r\n",
        "import numpy as np\r\n",
        "import tensorflow as tf\r\n",
        "import keras \r\n",
        "from tensorflow import keras\r\n",
        "from tensorflow.keras import layers\r\n",
        "\r\n",
        "(x_train,y_train), (x_test,y_test)=tf.keras.datasets.fashion_mnist.load_data() #load and prepare dataset \r\n",
        "print('Dataset Loaded')\r\n",
        "\r\n",
        "##-------------------------- Uncomment lines 13 to 16 if you want see size of data --------------------##\r\n",
        "\r\n",
        "#print('Size of Training data : ', np.shape(x_train)) \r\n",
        "#print('Size of Training Label : ', np.shape(y_train))\r\n",
        "#print('Size of Test data : ', np.shape(x_test)) \r\n",
        "#print('Size of Test Label : ', np.shape(y_test))\r\n",
        "\r\n",
        "##-------------------------- Uncomment lines 19 to 25 if you want see some samples of data --------------------##\r\n",
        "import matplotlib.pyplot as plt\r\n",
        "print('Some samples of datasets : ')\r\n",
        "for i in [566,1100,1672,19000,48914]: #randomly selected index of samples -you can change the list numbers to see other samples \r\n",
        "  img = x_train[i]\r\n",
        "  plt.figure(figsize = (1,1)) #set width and height of figures\r\n",
        "  plt.imshow(img, cmap=\"gray\")\r\n",
        "  plt.show()\r\n",
        "\r\n",
        "#\r\n",
        "num_classes = 10 # Because the number of classes in MNIST dataset is 10\r\n",
        "x_train = np.expand_dims(x_train, -1) #prepapre the shape of array  to train a CNN model convert it to 3D matrix\r\n",
        "x_test = np.expand_dims(x_test, -1) #prepapre the shape of array  to test a CNN model convert it to 3D matrix\r\n",
        "y_train = keras.utils.to_categorical(y_train, num_classes) #prepapre the shape of array  to train a CNN model (read more about to_categorical )\r\n",
        "y_test = keras.utils.to_categorical(y_test, num_classes) #prepapre the shape of array  to test a CNN model "
      ],
      "execution_count": null,
      "outputs": []
    },
    {
      "cell_type": "markdown",
      "metadata": {
        "id": "BsQOzBQjVNTK"
      },
      "source": [
        "# Part1-Step2: Creating Deep Neural Network "
      ]
    },
    {
      "cell_type": "code",
      "metadata": {
        "id": "SFwG8mqnVWTy"
      },
      "source": [
        "input_shape = (28, 28,1) # Because the size of images in MNIST dataset is 28*28 and images are one layer \r\n",
        "model = keras.Sequential(\r\n",
        "    [\r\n",
        "        keras.Input(shape=input_shape),\r\n",
        "        layers.Conv2D(32, kernel_size=(3, 3), activation=\"relu\"),\r\n",
        "        layers.MaxPooling2D(pool_size=(3, 3)),\r\n",
        "        layers.Conv2D(64, kernel_size=(3, 3), activation=\"relu\"),\r\n",
        "        layers.MaxPooling2D(pool_size=(2, 2)),\r\n",
        "        layers.Flatten(),\r\n",
        "        layers.Dropout(0.5),\r\n",
        "        layers.Dense(num_classes, activation=\"softmax\"),\r\n",
        "    ]\r\n",
        ")\r\n",
        "model.summary()"
      ],
      "execution_count": null,
      "outputs": []
    },
    {
      "cell_type": "markdown",
      "metadata": {
        "id": "O2oCUoCGWxa9"
      },
      "source": [
        "# Paert1-Step3: Compile the Model and Train it"
      ]
    },
    {
      "cell_type": "code",
      "metadata": {
        "id": "8T883j6iW5OO"
      },
      "source": [
        "batch_size = 128\r\n",
        "epochs = 10\r\n",
        "model.compile(loss=\"categorical_crossentropy\", optimizer=\"adam\", metrics=[\"accuracy\"])\r\n",
        "model.fit(x_train, y_train, batch_size=batch_size, epochs=epochs, validation_data= (x_test,y_test))"
      ],
      "execution_count": null,
      "outputs": []
    },
    {
      "cell_type": "markdown",
      "metadata": {
        "id": "VTs46ZNltZGG"
      },
      "source": [
        "# Some useful link about CNN settings:\r\n",
        "---\r\n",
        "1-Keras Optimizers ([ link ](https://keras.io/api/optimizers/))\r\n",
        "\r\n",
        "2-Keras Metrics([ link ](https://keras.io/api/metrics/))\r\n",
        "\r\n",
        "3-Keras Layers([ link ](https://keras.io/api/layers/))"
      ]
    }
  ]
}